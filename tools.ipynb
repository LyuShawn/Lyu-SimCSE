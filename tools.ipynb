{
 "cells": [
  {
   "cell_type": "markdown",
   "metadata": {},
   "source": [
    "* 定义item数据结构\n",
    "* 从json中取出"
   ]
  },
  {
   "cell_type": "code",
   "execution_count": null,
   "metadata": {},
   "outputs": [],
   "source": [
    "import time\n",
    "\n",
    "from qwikidata.entity import WikidataItem\n",
    "from qwikidata.json_dump import WikidataJsonDump\n",
    "from qwikidata.utils import dump_entities_to_json\n",
    "import json\n",
    "\n",
    "# P_OCCUPATION = \"P106\"\n",
    "# Q_POLITICIAN = \"Q82955\"\n",
    "\n",
    "# def has_occupation_politician(item: WikidataItem, truthy: bool = True) -> bool:\n",
    "#     \"\"\"Return True if the Wikidata Item has occupation politician.\"\"\"\n",
    "#     if truthy:\n",
    "#         claim_group = item.get_truthy_claim_group(P_OCCUPATION)\n",
    "#     else:\n",
    "#         claim_group = item.get_claim_group(P_OCCUPATION)\n",
    "\n",
    "#     occupation_qids = [\n",
    "#         claim.mainsnak.datavalue.value[\"id\"]\n",
    "#         for claim in claim_group\n",
    "#         if claim.mainsnak.snaktype == \"value\"\n",
    "#     ]\n",
    "#     return Q_POLITICIAN in occupation_qids\n",
    "\n",
    "\n",
    "# create an instance of WikidataJsonDump\n",
    "wjd_dump_path = \"wikidata\\wikidata-20231215-all.json.bz2\"\n",
    "wjd = WikidataJsonDump(wjd_dump_path)\n",
    "\n",
    "# create an iterable of WikidataItem representing politicians\n",
    "politicians = []\n",
    "t1 = time.time()\n",
    "for ii, entity_dict in enumerate(wjd):\n",
    "    print(entity_dict)\n",
    "    if entity_dict[\"type\"] == \"item\":\n",
    "        entity = WikidataItem(entity_dict)\n",
    "        # if has_occupation_politician(entity):\n",
    "        politicians.append(entity)\n",
    "    if ii % 1000 == 0 and ii > 0:\n",
    "        t2 = time.time()\n",
    "        dt = t2 - t1\n",
    "        print(\n",
    "            \"found {} politicians among {} entities [entities/s: {:.2f}]\".format(\n",
    "                len(politicians), ii, ii / dt\n",
    "            )\n",
    "        )\n",
    "    if ii == 1:\n",
    "        break\n",
    "\n",
    "\n",
    "# write the iterable of WikidataItem to disk as JSON\n",
    "out_fname = \"wikidata\\wikidata-20231215-all.json\"\n",
    "dump_entities_to_json(politicians, out_fname)"
   ]
  },
  {
   "cell_type": "code",
   "execution_count": null,
   "metadata": {},
   "outputs": [],
   "source": [
    "from qwikidata.json_dump import WikidataJsonDump\n",
    "from qwikidata.entity import WikidataItem\n",
    "from qwikidata.utils import dump_entities_to_json\n",
    "from tqdm import tqdm\n",
    "import os\n",
    "import json\n",
    "\n",
    "\n",
    "wjd_dump_path = \"wikidata\\wikidata-20231215-all.json.bz2\"\n",
    "wjd = WikidataJsonDump(wjd_dump_path)\n",
    "\n",
    "output_file_folder = \"wikidata/20231215-en-label-description\"\n",
    "if not os.path.exists(output_file_folder):\n",
    "    os.makedirs(output_file_folder)\n",
    "batch_size = 1000000\n",
    "wikidata_list_en=[]\n",
    "for ii, entity_dict in tqdm(enumerate(wjd)):\n",
    "    if entity_dict[\"type\"] == \"item\":\n",
    "        entity = WikidataItem(entity_dict)\n",
    "        wikidata_list_en.append({\n",
    "            'id':entity.entity_id,\n",
    "            'language': 'en',\n",
    "            'label': entity.get_label(),\n",
    "            'description': entity.get_description()})\n",
    "    if ii % batch_size == 0 and ii > 0:\n",
    "        json_file= os.path.join(output_file_folder, 'wikidata-20231215-en-label-description-'+str(ii)+'.json')\n",
    "        with open(json_file, 'w') as outfile:\n",
    "            json.dump(wikidata_list_en, outfile)\n",
    "        wikidata_list_en=[]\n",
    "        print(\"saved {} entities\".format(ii))\n",
    "\n",
    "# 将最后一批数据保存到json文件中\n",
    "json_file= os.path.join(output_file_folder, 'wikidata-20231215-en-label-description-'+str(ii)+'.json')\n",
    "with open(json_file, 'w') as outfile:\n",
    "    json.dump(wikidata_list_en, outfile)"
   ]
  },
  {
   "cell_type": "code",
   "execution_count": 63,
   "metadata": {},
   "outputs": [
    {
     "name": "stderr",
     "output_type": "stream",
     "text": [
      "c:\\Users\\lqw\\miniconda3\\envs\\simcse\\lib\\site-packages\\ipykernel_launcher.py:14: DeprecationWarning: Passing transport options in the API method is deprecated. Use 'Elasticsearch.options()' instead.\n",
      "  \n",
      "0it [00:00, ?it/s]"
     ]
    },
    {
     "name": "stderr",
     "output_type": "stream",
     "text": [
      "26988767it [13:52:30, 317.09it/s] "
     ]
    },
    {
     "name": "stdout",
     "output_type": "stream",
     "text": [
      "'NoneType' object has no attribute 'value'\n"
     ]
    },
    {
     "name": "stderr",
     "output_type": "stream",
     "text": [
      "27062212it [13:56:19, 85.59it/s] "
     ]
    },
    {
     "name": "stdout",
     "output_type": "stream",
     "text": [
      "batch num:1 has been inserted.The data efficiency rate is 0.0003695195720845109\n"
     ]
    },
    {
     "name": "stderr",
     "output_type": "stream",
     "text": [
      "27179338it [14:02:16, 138.40it/s]"
     ]
    },
    {
     "name": "stdout",
     "output_type": "stream",
     "text": [
      "batch num:2 has been inserted.The data efficiency rate is 0.0007358548823529932\n"
     ]
    },
    {
     "name": "stderr",
     "output_type": "stream",
     "text": [
      "27231688it [14:04:50, 109.32it/s]"
     ]
    },
    {
     "name": "stdout",
     "output_type": "stream",
     "text": [
      "batch num:3 has been inserted.The data efficiency rate is 0.001101659363399527\n"
     ]
    },
    {
     "name": "stderr",
     "output_type": "stream",
     "text": [
      "27272185it [14:06:53, 88.09it/s] "
     ]
    },
    {
     "name": "stdout",
     "output_type": "stream",
     "text": [
      "batch num:4 has been inserted.The data efficiency rate is 0.001466698195788882\n"
     ]
    },
    {
     "name": "stderr",
     "output_type": "stream",
     "text": [
      "27324190it [14:09:25, 116.86it/s]"
     ]
    },
    {
     "name": "stdout",
     "output_type": "stream",
     "text": [
      "batch num:5 has been inserted.The data efficiency rate is 0.0018298840263421322\n"
     ]
    },
    {
     "name": "stderr",
     "output_type": "stream",
     "text": [
      "27373046it [14:11:53, 88.27it/s] "
     ]
    },
    {
     "name": "stdout",
     "output_type": "stream",
     "text": [
      "batch num:6 has been inserted.The data efficiency rate is 0.002191941684414392\n"
     ]
    },
    {
     "name": "stderr",
     "output_type": "stream",
     "text": [
      "27433432it [14:15:01, 107.34it/s]"
     ]
    },
    {
     "name": "stdout",
     "output_type": "stream",
     "text": [
      "batch num:7 has been inserted.The data efficiency rate is 0.002551634511454579\n"
     ]
    },
    {
     "name": "stderr",
     "output_type": "stream",
     "text": [
      "27487910it [14:17:51, 102.12it/s]"
     ]
    },
    {
     "name": "stdout",
     "output_type": "stream",
     "text": [
      "batch num:8 has been inserted.The data efficiency rate is 0.0029103769782196118\n"
     ]
    },
    {
     "name": "stderr",
     "output_type": "stream",
     "text": [
      "27551710it [14:21:06, 96.77it/s] "
     ]
    },
    {
     "name": "stdout",
     "output_type": "stream",
     "text": [
      "batch num:9 has been inserted.The data efficiency rate is 0.003266590714803002\n"
     ]
    },
    {
     "name": "stderr",
     "output_type": "stream",
     "text": [
      "27568489it [14:22:00, 273.88it/s]"
     ]
    },
    {
     "name": "stdout",
     "output_type": "stream",
     "text": [
      "'NoneType' object has no attribute 'value'\n"
     ]
    },
    {
     "name": "stderr",
     "output_type": "stream",
     "text": [
      "27835487it [14:36:37, 319.82it/s]"
     ]
    },
    {
     "name": "stdout",
     "output_type": "stream",
     "text": [
      "'NoneType' object has no attribute 'value'\n"
     ]
    },
    {
     "name": "stderr",
     "output_type": "stream",
     "text": [
      "28003932it [14:44:07, 103.03it/s]"
     ]
    },
    {
     "name": "stdout",
     "output_type": "stream",
     "text": [
      "batch num:10 has been inserted.The data efficiency rate is 0.0035709337420386034\n"
     ]
    },
    {
     "name": "stderr",
     "output_type": "stream",
     "text": [
      "28363166it [15:01:47, 89.75it/s] "
     ]
    },
    {
     "name": "stdout",
     "output_type": "stream",
     "text": [
      "batch num:11 has been inserted.The data efficiency rate is 0.0038782746388198084\n"
     ]
    },
    {
     "name": "stderr",
     "output_type": "stream",
     "text": [
      "28529855it [15:09:36, 108.50it/s]"
     ]
    },
    {
     "name": "stdout",
     "output_type": "stream",
     "text": [
      "batch num:12 has been inserted.The data efficiency rate is 0.004206126559824509\n"
     ]
    },
    {
     "name": "stderr",
     "output_type": "stream",
     "text": [
      "28817848it [15:22:44, 116.16it/s]"
     ]
    },
    {
     "name": "stdout",
     "output_type": "stream",
     "text": [
      "batch num:13 has been inserted.The data efficiency rate is 0.004511099525682175\n"
     ]
    },
    {
     "name": "stderr",
     "output_type": "stream",
     "text": [
      "29276076it [15:45:26, 127.86it/s]"
     ]
    },
    {
     "name": "stdout",
     "output_type": "stream",
     "text": [
      "batch num:14 has been inserted.The data efficiency rate is 0.004782070133567318\n"
     ]
    },
    {
     "name": "stderr",
     "output_type": "stream",
     "text": [
      "29864181it [16:16:51, 80.92it/s] "
     ]
    },
    {
     "name": "stdout",
     "output_type": "stream",
     "text": [
      "batch num:15 has been inserted.The data efficiency rate is 0.005022746175756403\n"
     ]
    },
    {
     "name": "stderr",
     "output_type": "stream",
     "text": [
      "32693445it [19:19:35, 126.32it/s]"
     ]
    },
    {
     "name": "stdout",
     "output_type": "stream",
     "text": [
      "batch num:16 has been inserted.The data efficiency rate is 0.004893953832030083\n"
     ]
    },
    {
     "name": "stderr",
     "output_type": "stream",
     "text": [
      "33937243it [20:17:07, 89.44it/s] "
     ]
    },
    {
     "name": "stdout",
     "output_type": "stream",
     "text": [
      "batch num:17 has been inserted.The data efficiency rate is 0.00500925223621123\n"
     ]
    },
    {
     "name": "stderr",
     "output_type": "stream",
     "text": [
      "37736223it [23:28:54, 87.73it/s] "
     ]
    },
    {
     "name": "stdout",
     "output_type": "stream",
     "text": [
      "batch num:18 has been inserted.The data efficiency rate is 0.00476995753545304\n"
     ]
    },
    {
     "name": "stderr",
     "output_type": "stream",
     "text": [
      "38647571it [24:08:12, 131.98it/s]"
     ]
    },
    {
     "name": "stdout",
     "output_type": "stream",
     "text": [
      "batch num:19 has been inserted.The data efficiency rate is 0.004916227356471324\n"
     ]
    },
    {
     "name": "stderr",
     "output_type": "stream",
     "text": [
      "40012680it [25:07:44, 75.22it/s] "
     ]
    },
    {
     "name": "stdout",
     "output_type": "stream",
     "text": [
      "batch num:20 has been inserted.The data efficiency rate is 0.004998420873885418\n"
     ]
    },
    {
     "name": "stderr",
     "output_type": "stream",
     "text": [
      "40045790it [25:10:04, 72.93it/s] "
     ]
    },
    {
     "name": "stdout",
     "output_type": "stream",
     "text": [
      "batch num:21 has been inserted.The data efficiency rate is 0.005244002565366055\n"
     ]
    },
    {
     "name": "stderr",
     "output_type": "stream",
     "text": [
      "40084023it [25:12:31, 70.91it/s] "
     ]
    },
    {
     "name": "stdout",
     "output_type": "stream",
     "text": [
      "batch num:22 has been inserted.The data efficiency rate is 0.005488477353432271\n"
     ]
    },
    {
     "name": "stderr",
     "output_type": "stream",
     "text": [
      "40153954it [25:16:31, 118.83it/s]"
     ]
    },
    {
     "name": "stdout",
     "output_type": "stream",
     "text": [
      "batch num:23 has been inserted.The data efficiency rate is 0.005727963949888384\n"
     ]
    },
    {
     "name": "stderr",
     "output_type": "stream",
     "text": [
      "40244069it [25:21:11, 84.01it/s] "
     ]
    },
    {
     "name": "stdout",
     "output_type": "stream",
     "text": [
      "batch num:24 has been inserted.The data efficiency rate is 0.0059636190908268875\n"
     ]
    },
    {
     "name": "stderr",
     "output_type": "stream",
     "text": [
      "40354843it [25:26:37, 113.39it/s]"
     ]
    },
    {
     "name": "stdout",
     "output_type": "stream",
     "text": [
      "batch num:25 has been inserted.The data efficiency rate is 0.00619504806514772\n"
     ]
    },
    {
     "name": "stderr",
     "output_type": "stream",
     "text": [
      "40429708it [25:30:13, 86.79it/s] "
     ]
    },
    {
     "name": "stdout",
     "output_type": "stream",
     "text": [
      "batch num:26 has been inserted.The data efficiency rate is 0.006430920180828571\n"
     ]
    },
    {
     "name": "stderr",
     "output_type": "stream",
     "text": [
      "40538222it [25:35:17, 100.81it/s]"
     ]
    },
    {
     "name": "stdout",
     "output_type": "stream",
     "text": [
      "batch num:27 has been inserted.The data efficiency rate is 0.006660390933865994\n"
     ]
    },
    {
     "name": "stderr",
     "output_type": "stream",
     "text": [
      "40581082it [25:37:16, 159.29it/s]"
     ]
    },
    {
     "name": "stdout",
     "output_type": "stream",
     "text": [
      "batch num:28 has been inserted.The data efficiency rate is 0.006899779665393214\n"
     ]
    },
    {
     "name": "stderr",
     "output_type": "stream",
     "text": [
      "40620307it [25:39:07, 126.22it/s]"
     ]
    },
    {
     "name": "stdout",
     "output_type": "stream",
     "text": [
      "batch num:29 has been inserted.The data efficiency rate is 0.007139297517250205\n"
     ]
    },
    {
     "name": "stderr",
     "output_type": "stream",
     "text": [
      "40686090it [25:42:04, 105.42it/s]"
     ]
    },
    {
     "name": "stdout",
     "output_type": "stream",
     "text": [
      "batch num:30 has been inserted.The data efficiency rate is 0.0073735359322114466\n"
     ]
    },
    {
     "name": "stderr",
     "output_type": "stream",
     "text": [
      "40727815it [25:44:09, 108.31it/s]"
     ]
    },
    {
     "name": "stdout",
     "output_type": "stream",
     "text": [
      "batch num:31 has been inserted.The data efficiency rate is 0.0076115119649776165\n"
     ]
    },
    {
     "name": "stderr",
     "output_type": "stream",
     "text": [
      "40793574it [25:47:19, 105.47it/s]"
     ]
    },
    {
     "name": "stdout",
     "output_type": "stream",
     "text": [
      "batch num:32 has been inserted.The data efficiency rate is 0.007844381396863213\n"
     ]
    },
    {
     "name": "stderr",
     "output_type": "stream",
     "text": [
      "40840827it [25:49:33, 97.02it/s] "
     ]
    },
    {
     "name": "stdout",
     "output_type": "stream",
     "text": [
      "batch num:33 has been inserted.The data efficiency rate is 0.00808016008511102\n"
     ]
    },
    {
     "name": "stderr",
     "output_type": "stream",
     "text": [
      "41010991it [25:58:31, 95.08it/s] "
     ]
    },
    {
     "name": "stdout",
     "output_type": "stream",
     "text": [
      "batch num:34 has been inserted.The data efficiency rate is 0.008290470382270175\n"
     ]
    },
    {
     "name": "stderr",
     "output_type": "stream",
     "text": [
      "41644462it [26:26:55, 137.22it/s]"
     ]
    },
    {
     "name": "stdout",
     "output_type": "stream",
     "text": [
      "batch num:35 has been inserted.The data efficiency rate is 0.008404497011024683\n"
     ]
    },
    {
     "name": "stderr",
     "output_type": "stream",
     "text": [
      "41728349it [26:30:33, 151.17it/s]"
     ]
    },
    {
     "name": "stdout",
     "output_type": "stream",
     "text": [
      "batch num:36 has been inserted.The data efficiency rate is 0.008627243757380337\n"
     ]
    },
    {
     "name": "stderr",
     "output_type": "stream",
     "text": [
      "41940885it [26:40:04, 119.95it/s]"
     ]
    },
    {
     "name": "stdout",
     "output_type": "stream",
     "text": [
      "batch num:37 has been inserted.The data efficiency rate is 0.008821950366801199\n"
     ]
    },
    {
     "name": "stderr",
     "output_type": "stream",
     "text": [
      "42259175it [26:53:35, 124.66it/s]"
     ]
    },
    {
     "name": "stdout",
     "output_type": "stream",
     "text": [
      "batch num:38 has been inserted.The data efficiency rate is 0.008992139261166083\n"
     ]
    },
    {
     "name": "stderr",
     "output_type": "stream",
     "text": [
      "42899283it [27:23:34, 125.35it/s]"
     ]
    },
    {
     "name": "stdout",
     "output_type": "stream",
     "text": [
      "batch num:39 has been inserted.The data efficiency rate is 0.009091071416333448\n"
     ]
    },
    {
     "name": "stderr",
     "output_type": "stream",
     "text": [
      "44901876it [29:29:05, 109.06it/s]"
     ]
    },
    {
     "name": "stdout",
     "output_type": "stream",
     "text": [
      "batch num:40 has been inserted.The data efficiency rate is 0.008908322493389579\n"
     ]
    },
    {
     "name": "stderr",
     "output_type": "stream",
     "text": [
      "46607821it [31:00:04, 90.48it/s] "
     ]
    },
    {
     "name": "stdout",
     "output_type": "stream",
     "text": [
      "batch num:41 has been inserted.The data efficiency rate is 0.008796807248157224\n"
     ]
    },
    {
     "name": "stderr",
     "output_type": "stream",
     "text": [
      "49766901it [33:35:18, 102.28it/s]"
     ]
    },
    {
     "name": "stdout",
     "output_type": "stream",
     "text": [
      "batch num:42 has been inserted.The data efficiency rate is 0.00843935049713702\n"
     ]
    },
    {
     "name": "stderr",
     "output_type": "stream",
     "text": [
      "51539385it [35:04:07, 101.26it/s]"
     ]
    },
    {
     "name": "stdout",
     "output_type": "stream",
     "text": [
      "batch num:43 has been inserted.The data efficiency rate is 0.008343143155783033\n"
     ]
    },
    {
     "name": "stderr",
     "output_type": "stream",
     "text": [
      "52637349it [35:55:19, 112.65it/s]"
     ]
    },
    {
     "name": "stdout",
     "output_type": "stream",
     "text": [
      "batch num:44 has been inserted.The data efficiency rate is 0.008359093272434552\n"
     ]
    },
    {
     "name": "stderr",
     "output_type": "stream",
     "text": [
      "53362406it [36:28:54, 63.30it/s] "
     ]
    },
    {
     "name": "stdout",
     "output_type": "stream",
     "text": [
      "batch num:45 has been inserted.The data efficiency rate is 0.008432909282303763\n"
     ]
    },
    {
     "name": "stderr",
     "output_type": "stream",
     "text": [
      "53395787it [36:31:15, 79.42it/s] "
     ]
    },
    {
     "name": "stdout",
     "output_type": "stream",
     "text": [
      "batch num:46 has been inserted.The data efficiency rate is 0.008614915595177176\n"
     ]
    },
    {
     "name": "stderr",
     "output_type": "stream",
     "text": [
      "53446825it [36:34:32, 75.64it/s] "
     ]
    },
    {
     "name": "stdout",
     "output_type": "stream",
     "text": [
      "batch num:47 has been inserted.The data efficiency rate is 0.008793791209202421\n"
     ]
    },
    {
     "name": "stderr",
     "output_type": "stream",
     "text": [
      "53531919it [36:39:27, 93.42it/s] "
     ]
    },
    {
     "name": "stdout",
     "output_type": "stream",
     "text": [
      "batch num:48 has been inserted.The data efficiency rate is 0.008966622364702682\n"
     ]
    },
    {
     "name": "stderr",
     "output_type": "stream",
     "text": [
      "53644309it [36:45:34, 80.20it/s] "
     ]
    },
    {
     "name": "stdout",
     "output_type": "stream",
     "text": [
      "batch num:49 has been inserted.The data efficiency rate is 0.009134246259614703\n"
     ]
    },
    {
     "name": "stderr",
     "output_type": "stream",
     "text": [
      "53723439it [36:49:43, 92.79it/s] "
     ]
    },
    {
     "name": "stdout",
     "output_type": "stream",
     "text": [
      "batch num:50 has been inserted.The data efficiency rate is 0.009306929871110748\n"
     ]
    },
    {
     "name": "stderr",
     "output_type": "stream",
     "text": [
      "53841873it [36:55:44, 96.93it/s] "
     ]
    },
    {
     "name": "stdout",
     "output_type": "stream",
     "text": [
      "batch num:51 has been inserted.The data efficiency rate is 0.009472190595630288\n"
     ]
    },
    {
     "name": "stderr",
     "output_type": "stream",
     "text": [
      "53895541it [36:58:24, 108.11it/s]"
     ]
    },
    {
     "name": "stdout",
     "output_type": "stream",
     "text": [
      "batch num:52 has been inserted.The data efficiency rate is 0.009648300341496024\n"
     ]
    },
    {
     "name": "stderr",
     "output_type": "stream",
     "text": [
      "53936022it [37:00:37, 86.02it/s] "
     ]
    },
    {
     "name": "stdout",
     "output_type": "stream",
     "text": [
      "batch num:53 has been inserted.The data efficiency rate is 0.009826464270178673\n"
     ]
    },
    {
     "name": "stderr",
     "output_type": "stream",
     "text": [
      "53984561it [37:03:11, 65.99it/s] "
     ]
    },
    {
     "name": "stdout",
     "output_type": "stream",
     "text": [
      "batch num:54 has been inserted.The data efficiency rate is 0.010002867673971495\n"
     ]
    },
    {
     "name": "stderr",
     "output_type": "stream",
     "text": [
      "54036205it [37:05:56, 86.88it/s] "
     ]
    },
    {
     "name": "stdout",
     "output_type": "stream",
     "text": [
      "batch num:55 has been inserted.The data efficiency rate is 0.01017836831724886\n"
     ]
    },
    {
     "name": "stderr",
     "output_type": "stream",
     "text": [
      "54095933it [37:09:12, 85.83it/s] "
     ]
    },
    {
     "name": "stdout",
     "output_type": "stream",
     "text": [
      "batch num:56 has been inserted.The data efficiency rate is 0.010351987540939338\n"
     ]
    },
    {
     "name": "stderr",
     "output_type": "stream",
     "text": [
      "54151125it [37:12:17, 87.28it/s] "
     ]
    },
    {
     "name": "stdout",
     "output_type": "stream",
     "text": [
      "batch num:57 has been inserted.The data efficiency rate is 0.01052610701682482\n"
     ]
    },
    {
     "name": "stderr",
     "output_type": "stream",
     "text": [
      "54214802it [37:15:43, 86.49it/s] "
     ]
    },
    {
     "name": "stdout",
     "output_type": "stream",
     "text": [
      "batch num:58 has been inserted.The data efficiency rate is 0.010698193825780909\n"
     ]
    },
    {
     "name": "stderr",
     "output_type": "stream",
     "text": [
      "54481536it [37:31:14, 353.70it/s]"
     ]
    },
    {
     "name": "stdout",
     "output_type": "stream",
     "text": [
      "'NoneType' object has no attribute 'value'\n"
     ]
    },
    {
     "name": "stderr",
     "output_type": "stream",
     "text": [
      "54658604it [37:39:41, 119.84it/s]"
     ]
    },
    {
     "name": "stdout",
     "output_type": "stream",
     "text": [
      "batch num:59 has been inserted.The data efficiency rate is 0.010794289169712791\n"
     ]
    },
    {
     "name": "stderr",
     "output_type": "stream",
     "text": [
      "55027925it [37:58:33, 119.72it/s]"
     ]
    },
    {
     "name": "stdout",
     "output_type": "stream",
     "text": [
      "batch num:60 has been inserted.The data efficiency rate is 0.010903567558259261\n"
     ]
    },
    {
     "name": "stderr",
     "output_type": "stream",
     "text": [
      "55166134it [38:05:09, 111.12it/s]"
     ]
    },
    {
     "name": "stdout",
     "output_type": "stream",
     "text": [
      "batch num:61 has been inserted.The data efficiency rate is 0.011057519603668044\n"
     ]
    },
    {
     "name": "stderr",
     "output_type": "stream",
     "text": [
      "55482672it [38:19:45, 97.71it/s] "
     ]
    },
    {
     "name": "stdout",
     "output_type": "stream",
     "text": [
      "batch num:62 has been inserted.The data efficiency rate is 0.011174672769984555\n"
     ]
    },
    {
     "name": "stderr",
     "output_type": "stream",
     "text": [
      "55936382it [38:42:34, 110.58it/s]"
     ]
    },
    {
     "name": "stdout",
     "output_type": "stream",
     "text": [
      "batch num:63 has been inserted.The data efficiency rate is 0.01126280319265073\n"
     ]
    },
    {
     "name": "stderr",
     "output_type": "stream",
     "text": [
      "56536650it [39:15:05, 71.88it/s] "
     ]
    },
    {
     "name": "stdout",
     "output_type": "stream",
     "text": [
      "batch num:64 has been inserted.The data efficiency rate is 0.01132009720355217\n"
     ]
    },
    {
     "name": "stderr",
     "output_type": "stream",
     "text": [
      "59378780it [42:21:50, 97.62it/s] "
     ]
    },
    {
     "name": "stdout",
     "output_type": "stream",
     "text": [
      "batch num:65 has been inserted.The data efficiency rate is 0.010946678895510414\n"
     ]
    },
    {
     "name": "stderr",
     "output_type": "stream",
     "text": [
      "60627189it [43:24:25, 132.04it/s]"
     ]
    },
    {
     "name": "stdout",
     "output_type": "stream",
     "text": [
      "batch num:66 has been inserted.The data efficiency rate is 0.010886218873269418\n"
     ]
    },
    {
     "name": "stderr",
     "output_type": "stream",
     "text": [
      "64400340it [46:49:45, 106.18it/s]"
     ]
    },
    {
     "name": "stdout",
     "output_type": "stream",
     "text": [
      "batch num:67 has been inserted.The data efficiency rate is 0.010403682120865445\n"
     ]
    },
    {
     "name": "stderr",
     "output_type": "stream",
     "text": [
      "65305590it [47:32:22, 106.41it/s]"
     ]
    },
    {
     "name": "stdout",
     "output_type": "stream",
     "text": [
      "batch num:68 has been inserted.The data efficiency rate is 0.010412594461755383\n"
     ]
    },
    {
     "name": "stderr",
     "output_type": "stream",
     "text": [
      "66677695it [48:36:23, 52.96it/s] "
     ]
    },
    {
     "name": "stdout",
     "output_type": "stream",
     "text": [
      "batch num:69 has been inserted.The data efficiency rate is 0.010348292324800562\n"
     ]
    },
    {
     "name": "stderr",
     "output_type": "stream",
     "text": [
      "66710187it [48:38:50, 64.73it/s] "
     ]
    },
    {
     "name": "stdout",
     "output_type": "stream",
     "text": [
      "batch num:70 has been inserted.The data efficiency rate is 0.010493153951567379\n"
     ]
    },
    {
     "name": "stderr",
     "output_type": "stream",
     "text": [
      "66749077it [48:41:30, 73.31it/s] "
     ]
    },
    {
     "name": "stdout",
     "output_type": "stream",
     "text": [
      "batch num:71 has been inserted.The data efficiency rate is 0.010636855665164608\n"
     ]
    },
    {
     "name": "stderr",
     "output_type": "stream",
     "text": [
      "66818013it [48:45:45, 85.87it/s] "
     ]
    },
    {
     "name": "stdout",
     "output_type": "stream",
     "text": [
      "batch num:72 has been inserted.The data efficiency rate is 0.010775544524557458\n"
     ]
    },
    {
     "name": "stderr",
     "output_type": "stream",
     "text": [
      "66869245it [48:48:37, 281.38it/s]"
     ]
    },
    {
     "name": "stdout",
     "output_type": "stream",
     "text": [
      "'NoneType' object has no attribute 'value'\n"
     ]
    },
    {
     "name": "stderr",
     "output_type": "stream",
     "text": [
      "66909039it [48:50:49, 50.33it/s] "
     ]
    },
    {
     "name": "stdout",
     "output_type": "stream",
     "text": [
      "batch num:73 has been inserted.The data efficiency rate is 0.010910339117103375\n"
     ]
    },
    {
     "name": "stderr",
     "output_type": "stream",
     "text": [
      "67019157it [48:56:39, 94.88it/s] "
     ]
    },
    {
     "name": "stdout",
     "output_type": "stream",
     "text": [
      "batch num:74 has been inserted.The data efficiency rate is 0.011041628101791039\n"
     ]
    },
    {
     "name": "stderr",
     "output_type": "stream",
     "text": [
      "67094295it [49:00:35, 99.07it/s] "
     ]
    },
    {
     "name": "stdout",
     "output_type": "stream",
     "text": [
      "batch num:75 has been inserted.The data efficiency rate is 0.011178304978767853\n"
     ]
    },
    {
     "name": "stderr",
     "output_type": "stream",
     "text": [
      "67203871it [49:06:09, 89.32it/s] "
     ]
    },
    {
     "name": "stdout",
     "output_type": "stream",
     "text": [
      "batch num:76 has been inserted.The data efficiency rate is 0.011308881794880246\n"
     ]
    },
    {
     "name": "stderr",
     "output_type": "stream",
     "text": [
      "67245752it [49:08:17, 98.15it/s] "
     ]
    },
    {
     "name": "stdout",
     "output_type": "stream",
     "text": [
      "batch num:77 has been inserted.The data efficiency rate is 0.011450544577490519\n"
     ]
    },
    {
     "name": "stderr",
     "output_type": "stream",
     "text": [
      "67285934it [49:10:19, 102.15it/s]"
     ]
    },
    {
     "name": "stdout",
     "output_type": "stream",
     "text": [
      "batch num:78 has been inserted.The data efficiency rate is 0.011592326414943756\n"
     ]
    },
    {
     "name": "stderr",
     "output_type": "stream",
     "text": [
      "67352425it [49:13:32, 97.33it/s] "
     ]
    },
    {
     "name": "stdout",
     "output_type": "stream",
     "text": [
      "batch num:79 has been inserted.The data efficiency rate is 0.011729357459265575\n"
     ]
    },
    {
     "name": "stderr",
     "output_type": "stream",
     "text": [
      "67396320it [49:15:54, 99.03it/s] "
     ]
    },
    {
     "name": "stdout",
     "output_type": "stream",
     "text": [
      "batch num:80 has been inserted.The data efficiency rate is 0.011870093107526574\n"
     ]
    },
    {
     "name": "stderr",
     "output_type": "stream",
     "text": [
      "67461539it [49:19:21, 90.95it/s] "
     ]
    },
    {
     "name": "stdout",
     "output_type": "stream",
     "text": [
      "batch num:81 has been inserted.The data efficiency rate is 0.012006848528521432\n"
     ]
    },
    {
     "name": "stderr",
     "output_type": "stream",
     "text": [
      "67507464it [49:21:42, 88.43it/s] "
     ]
    },
    {
     "name": "stdout",
     "output_type": "stream",
     "text": [
      "batch num:82 has been inserted.The data efficiency rate is 0.012146811099163456\n"
     ]
    },
    {
     "name": "stderr",
     "output_type": "stream",
     "text": [
      "67719578it [49:33:38, 102.82it/s]"
     ]
    },
    {
     "name": "stdout",
     "output_type": "stream",
     "text": [
      "batch num:83 has been inserted.The data efficiency rate is 0.01225643202416673\n"
     ]
    },
    {
     "name": "stderr",
     "output_type": "stream",
     "text": [
      "68324040it [50:03:01, 107.73it/s]"
     ]
    },
    {
     "name": "stdout",
     "output_type": "stream",
     "text": [
      "batch num:84 has been inserted.The data efficiency rate is 0.012294362876550722\n"
     ]
    },
    {
     "name": "stderr",
     "output_type": "stream",
     "text": [
      "68405998it [50:06:52, 92.51it/s] "
     ]
    },
    {
     "name": "stdout",
     "output_type": "stream",
     "text": [
      "batch num:85 has been inserted.The data efficiency rate is 0.012425816232498658\n"
     ]
    },
    {
     "name": "stderr",
     "output_type": "stream",
     "text": [
      "68662406it [50:18:58, 117.88it/s]"
     ]
    },
    {
     "name": "stdout",
     "output_type": "stream",
     "text": [
      "batch num:86 has been inserted.The data efficiency rate is 0.012525058126464522\n"
     ]
    },
    {
     "name": "stderr",
     "output_type": "stream",
     "text": [
      "68945941it [50:32:24, 74.38it/s] "
     ]
    },
    {
     "name": "stdout",
     "output_type": "stream",
     "text": [
      "batch num:87 has been inserted.The data efficiency rate is 0.012618591004937481\n"
     ]
    },
    {
     "name": "stderr",
     "output_type": "stream",
     "text": [
      "69573904it [51:04:25, 108.19it/s]"
     ]
    },
    {
     "name": "stdout",
     "output_type": "stream",
     "text": [
      "batch num:88 has been inserted.The data efficiency rate is 0.012648432590422854\n"
     ]
    },
    {
     "name": "stderr",
     "output_type": "stream",
     "text": [
      "71765069it [53:30:29, 114.53it/s]"
     ]
    },
    {
     "name": "stdout",
     "output_type": "stream",
     "text": [
      "batch num:89 has been inserted.The data efficiency rate is 0.01240158437068174\n"
     ]
    },
    {
     "name": "stderr",
     "output_type": "stream",
     "text": [
      "73299169it [54:57:31, 119.23it/s]"
     ]
    },
    {
     "name": "stdout",
     "output_type": "stream",
     "text": [
      "batch num:90 has been inserted.The data efficiency rate is 0.012278458410623956\n"
     ]
    },
    {
     "name": "stderr",
     "output_type": "stream",
     "text": [
      "76492223it [57:47:00, 79.19it/s] "
     ]
    },
    {
     "name": "stdout",
     "output_type": "stream",
     "text": [
      "batch num:91 has been inserted.The data efficiency rate is 0.011896642492950586\n"
     ]
    },
    {
     "name": "stderr",
     "output_type": "stream",
     "text": [
      "78209669it [59:16:53, 101.82it/s]"
     ]
    },
    {
     "name": "stdout",
     "output_type": "stream",
     "text": [
      "batch num:92 has been inserted.The data efficiency rate is 0.011763261197435548\n"
     ]
    },
    {
     "name": "stderr",
     "output_type": "stream",
     "text": [
      "79309468it [60:08:25, 105.53it/s]"
     ]
    },
    {
     "name": "stdout",
     "output_type": "stream",
     "text": [
      "batch num:93 has been inserted.The data efficiency rate is 0.011726225616590476\n"
     ]
    },
    {
     "name": "stderr",
     "output_type": "stream",
     "text": [
      "80025442it [60:41:39, 56.86it/s] "
     ]
    },
    {
     "name": "stdout",
     "output_type": "stream",
     "text": [
      "batch num:94 has been inserted.The data efficiency rate is 0.011746269384843374\n"
     ]
    },
    {
     "name": "stderr",
     "output_type": "stream",
     "text": [
      "80058896it [60:44:01, 79.52it/s] "
     ]
    },
    {
     "name": "stdout",
     "output_type": "stream",
     "text": [
      "batch num:95 has been inserted.The data efficiency rate is 0.011866271615584761\n"
     ]
    },
    {
     "name": "stderr",
     "output_type": "stream",
     "text": [
      "80108505it [60:47:15, 71.00it/s] "
     ]
    },
    {
     "name": "stdout",
     "output_type": "stream",
     "text": [
      "batch num:96 has been inserted.The data efficiency rate is 0.011983753176427973\n"
     ]
    },
    {
     "name": "stderr",
     "output_type": "stream",
     "text": [
      "80186668it [60:51:50, 98.28it/s] "
     ]
    },
    {
     "name": "stdout",
     "output_type": "stream",
     "text": [
      "batch num:97 has been inserted.The data efficiency rate is 0.012096783647303481\n"
     ]
    },
    {
     "name": "stderr",
     "output_type": "stream",
     "text": [
      "80297064it [60:57:51, 88.67it/s] "
     ]
    },
    {
     "name": "stdout",
     "output_type": "stream",
     "text": [
      "batch num:98 has been inserted.The data efficiency rate is 0.012204685528219412\n"
     ]
    },
    {
     "name": "stderr",
     "output_type": "stream",
     "text": [
      "80380435it [61:02:17, 108.82it/s]"
     ]
    },
    {
     "name": "stdout",
     "output_type": "stream",
     "text": [
      "batch num:99 has been inserted.The data efficiency rate is 0.012316438720902755\n"
     ]
    },
    {
     "name": "stderr",
     "output_type": "stream",
     "text": [
      "80478272it [61:07:19, 105.30it/s]"
     ]
    },
    {
     "name": "stdout",
     "output_type": "stream",
     "text": [
      "batch num:100 has been inserted.The data efficiency rate is 0.0124257252274529\n"
     ]
    },
    {
     "name": "stderr",
     "output_type": "stream",
     "text": [
      "80554225it [61:11:08, 83.31it/s] "
     ]
    },
    {
     "name": "stdout",
     "output_type": "stream",
     "text": [
      "batch num:101 has been inserted.The data efficiency rate is 0.01253814311068823\n"
     ]
    },
    {
     "name": "stderr",
     "output_type": "stream",
     "text": [
      "80595754it [61:13:16, 67.43it/s] "
     ]
    },
    {
     "name": "stdout",
     "output_type": "stream",
     "text": [
      "batch num:102 has been inserted.The data efficiency rate is 0.012655756850055573\n"
     ]
    },
    {
     "name": "stderr",
     "output_type": "stream",
     "text": [
      "80635749it [61:15:18, 103.01it/s]"
     ]
    },
    {
     "name": "stdout",
     "output_type": "stream",
     "text": [
      "batch num:103 has been inserted.The data efficiency rate is 0.012773497953214372\n"
     ]
    },
    {
     "name": "stderr",
     "output_type": "stream",
     "text": [
      "80696939it [61:18:19, 113.16it/s]"
     ]
    },
    {
     "name": "stdout",
     "output_type": "stream",
     "text": [
      "batch num:104 has been inserted.The data efficiency rate is 0.012887734781224073\n"
     ]
    },
    {
     "name": "stderr",
     "output_type": "stream",
     "text": [
      "80755470it [61:21:24, 92.93it/s] "
     ]
    },
    {
     "name": "stdout",
     "output_type": "stream",
     "text": [
      "batch num:105 has been inserted.The data efficiency rate is 0.01300222293433127\n"
     ]
    },
    {
     "name": "stderr",
     "output_type": "stream",
     "text": [
      "80812349it [61:24:22, 104.88it/s]"
     ]
    },
    {
     "name": "stdout",
     "output_type": "stream",
     "text": [
      "batch num:106 has been inserted.The data efficiency rate is 0.013116816761410919\n"
     ]
    },
    {
     "name": "stderr",
     "output_type": "stream",
     "text": [
      "80863696it [61:27:01, 115.84it/s]"
     ]
    },
    {
     "name": "stdout",
     "output_type": "stream",
     "text": [
      "batch num:107 has been inserted.The data efficiency rate is 0.013232152463482381\n"
     ]
    },
    {
     "name": "stderr",
     "output_type": "stream",
     "text": [
      "81240206it [61:47:03, 150.82it/s]"
     ]
    },
    {
     "name": "stdout",
     "output_type": "stream",
     "text": [
      "batch num:108 has been inserted.The data efficiency rate is 0.013293922597120414\n"
     ]
    },
    {
     "name": "stderr",
     "output_type": "stream",
     "text": [
      "81680426it [62:08:26, 89.98it/s] "
     ]
    },
    {
     "name": "stdout",
     "output_type": "stream",
     "text": [
      "batch num:109 has been inserted.The data efficiency rate is 0.013344699262633134\n"
     ]
    },
    {
     "name": "stderr",
     "output_type": "stream",
     "text": [
      "81777853it [62:13:05, 105.19it/s]"
     ]
    },
    {
     "name": "stdout",
     "output_type": "stream",
     "text": [
      "batch num:110 has been inserted.The data efficiency rate is 0.013451084288235998\n"
     ]
    },
    {
     "name": "stderr",
     "output_type": "stream",
     "text": [
      "82060348it [62:26:16, 95.91it/s] "
     ]
    },
    {
     "name": "stdout",
     "output_type": "stream",
     "text": [
      "batch num:111 has been inserted.The data efficiency rate is 0.013526638502742964\n"
     ]
    },
    {
     "name": "stderr",
     "output_type": "stream",
     "text": [
      "82476053it [62:46:30, 102.93it/s]"
     ]
    },
    {
     "name": "stdout",
     "output_type": "stream",
     "text": [
      "batch num:112 has been inserted.The data efficiency rate is 0.013579710506033968\n"
     ]
    },
    {
     "name": "stderr",
     "output_type": "stream",
     "text": [
      "83015929it [63:15:40, 82.40it/s] "
     ]
    },
    {
     "name": "stdout",
     "output_type": "stream",
     "text": [
      "batch num:113 has been inserted.The data efficiency rate is 0.013611856326784195\n"
     ]
    },
    {
     "name": "stderr",
     "output_type": "stream",
     "text": [
      "85649614it [66:12:06, 33.05it/s] "
     ]
    },
    {
     "name": "stdout",
     "output_type": "stream",
     "text": [
      "batch num:114 has been inserted.The data efficiency rate is 0.01331004868745757\n"
     ]
    },
    {
     "name": "stderr",
     "output_type": "stream",
     "text": [
      "86988048it [67:27:00, 66.18it/s] "
     ]
    },
    {
     "name": "stdout",
     "output_type": "stream",
     "text": [
      "batch num:115 has been inserted.The data efficiency rate is 0.013220210482994642\n"
     ]
    },
    {
     "name": "stderr",
     "output_type": "stream",
     "text": [
      "90748521it [70:52:41, 74.27it/s] "
     ]
    },
    {
     "name": "stdout",
     "output_type": "stream",
     "text": [
      "batch num:116 has been inserted.The data efficiency rate is 0.012782587612048334\n"
     ]
    },
    {
     "name": "stderr",
     "output_type": "stream",
     "text": [
      "91719725it [71:41:45, 92.63it/s] "
     ]
    },
    {
     "name": "stdout",
     "output_type": "stream",
     "text": [
      "batch num:117 has been inserted.The data efficiency rate is 0.012756261018220454\n"
     ]
    },
    {
     "name": "stderr",
     "output_type": "stream",
     "text": [
      "93316255it [72:56:22, 65.43it/s] "
     ]
    },
    {
     "name": "stdout",
     "output_type": "stream",
     "text": [
      "batch num:118 has been inserted.The data efficiency rate is 0.012645176268184727\n"
     ]
    },
    {
     "name": "stderr",
     "output_type": "stream",
     "text": [
      "93374145it [73:00:11, 54.14it/s] "
     ]
    },
    {
     "name": "stdout",
     "output_type": "stream",
     "text": [
      "batch num:119 has been inserted.The data efficiency rate is 0.012744433140572532\n"
     ]
    },
    {
     "name": "stderr",
     "output_type": "stream",
     "text": [
      "93406352it [73:02:31, 53.13it/s] "
     ]
    },
    {
     "name": "stdout",
     "output_type": "stream",
     "text": [
      "batch num:120 has been inserted.The data efficiency rate is 0.012847096840356098\n"
     ]
    },
    {
     "name": "stderr",
     "output_type": "stream",
     "text": [
      "93444192it [73:04:56, 281.59it/s]"
     ]
    },
    {
     "name": "stdout",
     "output_type": "stream",
     "text": [
      "'NoneType' object has no attribute 'value'\n"
     ]
    },
    {
     "name": "stderr",
     "output_type": "stream",
     "text": [
      "93470378it [73:06:36, 85.81it/s] "
     ]
    },
    {
     "name": "stdout",
     "output_type": "stream",
     "text": [
      "batch num:121 has been inserted.The data efficiency rate is 0.01294528268656597\n"
     ]
    },
    {
     "name": "stderr",
     "output_type": "stream",
     "text": [
      "93559650it [73:11:37, 96.36it/s] "
     ]
    },
    {
     "name": "stdout",
     "output_type": "stream",
     "text": [
      "batch num:122 has been inserted.The data efficiency rate is 0.013039817167227127\n"
     ]
    },
    {
     "name": "stderr",
     "output_type": "stream",
     "text": [
      "93674341it [73:17:46, 88.17it/s] "
     ]
    },
    {
     "name": "stdout",
     "output_type": "stream",
     "text": [
      "batch num:123 has been inserted.The data efficiency rate is 0.01313060182298657\n"
     ]
    },
    {
     "name": "stderr",
     "output_type": "stream",
     "text": [
      "93745806it [73:21:34, 98.54it/s] "
     ]
    },
    {
     "name": "stdout",
     "output_type": "stream",
     "text": [
      "batch num:124 has been inserted.The data efficiency rate is 0.013227263621892098\n"
     ]
    },
    {
     "name": "stderr",
     "output_type": "stream",
     "text": [
      "93870235it [73:27:52, 86.51it/s] "
     ]
    },
    {
     "name": "stdout",
     "output_type": "stream",
     "text": [
      "batch num:125 has been inserted.The data efficiency rate is 0.01331626351696624\n"
     ]
    },
    {
     "name": "stderr",
     "output_type": "stream",
     "text": [
      "93909833it [73:29:54, 95.14it/s] "
     ]
    },
    {
     "name": "stdout",
     "output_type": "stream",
     "text": [
      "batch num:126 has been inserted.The data efficiency rate is 0.013417133769270917\n"
     ]
    },
    {
     "name": "stderr",
     "output_type": "stream",
     "text": [
      "93952242it [73:32:03, 94.14it/s] "
     ]
    },
    {
     "name": "stdout",
     "output_type": "stream",
     "text": [
      "batch num:127 has been inserted.The data efficiency rate is 0.013517510801688547\n"
     ]
    },
    {
     "name": "stderr",
     "output_type": "stream",
     "text": [
      "94018642it [73:35:18, 92.13it/s] "
     ]
    },
    {
     "name": "stdout",
     "output_type": "stream",
     "text": [
      "batch num:128 has been inserted.The data efficiency rate is 0.013614329549843788\n"
     ]
    },
    {
     "name": "stderr",
     "output_type": "stream",
     "text": [
      "94054245it [73:37:14, 94.51it/s] "
     ]
    },
    {
     "name": "stdout",
     "output_type": "stream",
     "text": [
      "batch num:129 has been inserted.The data efficiency rate is 0.013715497854444269\n"
     ]
    },
    {
     "name": "stderr",
     "output_type": "stream",
     "text": [
      "94124213it [73:40:53, 98.22it/s] "
     ]
    },
    {
     "name": "stdout",
     "output_type": "stream",
     "text": [
      "batch num:130 has been inserted.The data efficiency rate is 0.013811542186813772\n"
     ]
    },
    {
     "name": "stderr",
     "output_type": "stream",
     "text": [
      "94168134it [73:43:10, 97.86it/s] "
     ]
    },
    {
     "name": "stdout",
     "output_type": "stream",
     "text": [
      "batch num:131 has been inserted.The data efficiency rate is 0.013911296814062413\n"
     ]
    },
    {
     "name": "stderr",
     "output_type": "stream",
     "text": [
      "94229601it [73:46:19, 98.88it/s] "
     ]
    },
    {
     "name": "stdout",
     "output_type": "stream",
     "text": [
      "batch num:132 has been inserted.The data efficiency rate is 0.01400834421880728\n"
     ]
    },
    {
     "name": "stderr",
     "output_type": "stream",
     "text": [
      "94948717it [74:22:28, 90.40it/s] "
     ]
    },
    {
     "name": "stdout",
     "output_type": "stream",
     "text": [
      "batch num:133 has been inserted.The data efficiency rate is 0.014007570133244326\n"
     ]
    },
    {
     "name": "stderr",
     "output_type": "stream",
     "text": [
      "95031891it [74:26:43, 92.22it/s] "
     ]
    },
    {
     "name": "stdout",
     "output_type": "stream",
     "text": [
      "batch num:134 has been inserted.The data efficiency rate is 0.014100536954760911\n"
     ]
    },
    {
     "name": "stderr",
     "output_type": "stream",
     "text": [
      "95263575it [74:37:54, 105.96it/s]"
     ]
    },
    {
     "name": "stdout",
     "output_type": "stream",
     "text": [
      "batch num:135 has been inserted.The data efficiency rate is 0.014171214025546542\n"
     ]
    },
    {
     "name": "stderr",
     "output_type": "stream",
     "text": [
      "95563617it [74:51:49, 116.79it/s]"
     ]
    },
    {
     "name": "stdout",
     "output_type": "stream",
     "text": [
      "batch num:136 has been inserted.The data efficiency rate is 0.014231366163330103\n"
     ]
    },
    {
     "name": "stderr",
     "output_type": "stream",
     "text": [
      "96194054it [75:23:43, 139.34it/s]"
     ]
    },
    {
     "name": "stdout",
     "output_type": "stream",
     "text": [
      "batch num:137 has been inserted.The data efficiency rate is 0.014242054887756806\n"
     ]
    },
    {
     "name": "stderr",
     "output_type": "stream",
     "text": [
      "97930635it [77:21:14, 53.42it/s] "
     ]
    },
    {
     "name": "stdout",
     "output_type": "stream",
     "text": [
      "batch num:138 has been inserted.The data efficiency rate is 0.014091611239322082\n"
     ]
    },
    {
     "name": "stderr",
     "output_type": "stream",
     "text": [
      "99863009it [79:15:26, 66.92it/s] "
     ]
    },
    {
     "name": "stdout",
     "output_type": "stream",
     "text": [
      "batch num:139 has been inserted.The data efficiency rate is 0.013919075257495883\n"
     ]
    },
    {
     "name": "stderr",
     "output_type": "stream",
     "text": [
      "102759058it [81:48:48, 36.38it/s] "
     ]
    },
    {
     "name": "stdout",
     "output_type": "stream",
     "text": [
      "batch num:140 has been inserted.The data efficiency rate is 0.013624107866655251\n"
     ]
    },
    {
     "name": "stderr",
     "output_type": "stream",
     "text": [
      "104781918it [83:37:34, 74.41it/s] "
     ]
    },
    {
     "name": "stdout",
     "output_type": "stream",
     "text": [
      "batch num:141 has been inserted.The data efficiency rate is 0.013456524474626506\n"
     ]
    },
    {
     "name": "stderr",
     "output_type": "stream",
     "text": [
      "105763061it [84:24:06, 75.86it/s] "
     ]
    },
    {
     "name": "stdout",
     "output_type": "stream",
     "text": [
      "batch num:142 has been inserted.The data efficiency rate is 0.013426243061386135\n"
     ]
    },
    {
     "name": "stderr",
     "output_type": "stream",
     "text": [
      "106669271it [85:05:33, 348.21it/s]\n"
     ]
    },
    {
     "data": {
      "text/plain": [
       "(4157, [])"
      ]
     },
     "execution_count": 63,
     "metadata": {},
     "output_type": "execute_result"
    }
   ],
   "source": [
    "# 将数据插入es\n",
    "from elasticsearch import Elasticsearch\n",
    "from elasticsearch import helpers\n",
    "from qwikidata.json_dump import WikidataJsonDump\n",
    "from qwikidata.entity import WikidataItem\n",
    "from qwikidata.utils import dump_entities_to_json\n",
    "import json\n",
    "import os\n",
    "import time\n",
    "from tqdm import tqdm\n",
    "\n",
    "es = Elasticsearch(hosts=\"http://localhost:9200\")\n",
    "index_name = \"wikidata-filter\"\n",
    "es.indices.create(index=index_name,ignore=400)\n",
    "\n",
    "wjd_dump_path = \"wikidata\\wikidata-20231215-all.json.bz2\"\n",
    "wjd = WikidataJsonDump(wjd_dump_path)\n",
    "\n",
    "batch_size=10000\n",
    "batch_num=0\n",
    "item_list=[]\n",
    "\n",
    "property_list = set(['Q1656682','Q2221906','Q34770','Q22097341','Q5','Q43229','Q2424752','Q838948'])\n",
    "\n",
    "for ii, entity_dict in tqdm(enumerate(wjd)):\n",
    "    if entity_dict[\"type\"] == \"item\":\n",
    "        entity = WikidataItem(entity_dict)\n",
    "        if ii< 15000000:\n",
    "            continue\n",
    "        try:\n",
    "            # 判断es中是否已经存在\n",
    "            if es.exists(index=index_name,id=entity.entity_id):\n",
    "                continue\n",
    "\n",
    "            # 判断是否存在英文wiki标题\n",
    "            en_wiki_title = entity.get_enwiki_title()\n",
    "            if not bool(en_wiki_title):\n",
    "                continue\n",
    "\n",
    "            # 判断是否存在英文标签\n",
    "            en_label = entity.get_label('en')\n",
    "            if not bool(en_label):\n",
    "                continue\n",
    "            # 判断是否存在英文描述\n",
    "            en_description = entity.get_description('en')\n",
    "            if not bool(en_description):\n",
    "                continue\n",
    "            \n",
    "            # 判断是否有P31\n",
    "            instance_list = entity.get_claim_group('P31')\n",
    "            if len(instance_list) <=0:\n",
    "                continue\n",
    "            \n",
    "            # 判断P31 是否在 list中\n",
    "            instance_value_list = [claim.mainsnak.datavalue.value[\"id\"] for claim in entity.get_truthy_claim_group('P31')]\n",
    "            if not bool(property_list & set(instance_value_list)):\n",
    "                continue\n",
    "        except Exception as e:\n",
    "            # 捕获任意异常\n",
    "            print(e)\n",
    "            continue\n",
    "\n",
    "        item={\n",
    "            '_id': entity.entity_id,\n",
    "            '_index': index_name,\n",
    "            'entity_id':entity.entity_id,\n",
    "            'label':en_label,\n",
    "            'description':en_description,\n",
    "            'enwiki_title':en_wiki_title,\n",
    "            'instance_of': str(instance_value_list)\n",
    "        }\n",
    "        item_list.append(item)\n",
    "        # 每bs条插入\n",
    "        if len(item_list) > batch_size:\n",
    "            helpers.bulk(client=es, actions=item_list)\n",
    "            batch_num+=1\n",
    "            item_list=[]\n",
    "            print(f\"batch num:{batch_num} has been inserted.The data efficiency rate is {batch_num * batch_size / ii}\")\n",
    "\n",
    "# 插入余下的数据\n",
    "helpers.bulk(client=es, actions=item_list)\n"
   ]
  },
  {
   "cell_type": "code",
   "execution_count": 61,
   "metadata": {},
   "outputs": [
    {
     "name": "stdout",
     "output_type": "stream",
     "text": [
      "2\n"
     ]
    }
   ],
   "source": [
    "# es检索测试\n",
    "from elasticsearch import Elasticsearch\n",
    "es = Elasticsearch(hosts=\"http://localhost:9200\")\n",
    "index_name = \"wikidata-filter\"\n",
    "\n",
    "query_id = 'Q2687336'\n",
    "\n",
    "if es.exists(index=index_name,id=query_id):\n",
    "    print(\"1\")\n",
    "else:\n",
    "    print(\"2\")\n"
   ]
  },
  {
   "cell_type": "code",
   "execution_count": 58,
   "metadata": {},
   "outputs": [
    {
     "ename": "FileNotFoundError",
     "evalue": "[WinError 2] 系统找不到指定的文件。",
     "output_type": "error",
     "traceback": [
      "\u001b[1;31m---------------------------------------------------------------------------\u001b[0m",
      "\u001b[1;31mFileNotFoundError\u001b[0m                         Traceback (most recent call last)",
      "\u001b[1;32m~\\AppData\\Local\\Temp\\ipykernel_13404\\3127974136.py\u001b[0m in \u001b[0;36m<module>\u001b[1;34m\u001b[0m\n\u001b[0;32m      7\u001b[0m \u001b[0mwjd\u001b[0m \u001b[1;33m=\u001b[0m \u001b[0mWikidataJsonDump\u001b[0m\u001b[1;33m(\u001b[0m\u001b[0mwjd_dump_path\u001b[0m\u001b[1;33m)\u001b[0m\u001b[1;33m\u001b[0m\u001b[1;33m\u001b[0m\u001b[0m\n\u001b[0;32m      8\u001b[0m \u001b[1;33m\u001b[0m\u001b[0m\n\u001b[1;32m----> 9\u001b[1;33m \u001b[0mwjd\u001b[0m\u001b[1;33m.\u001b[0m\u001b[0mcreate_chunks\u001b[0m\u001b[1;33m(\u001b[0m\u001b[0mnum_lines_per_chunk\u001b[0m\u001b[1;33m=\u001b[0m\u001b[1;36m100\u001b[0m\u001b[1;33m)\u001b[0m\u001b[1;33m\u001b[0m\u001b[1;33m\u001b[0m\u001b[0m\n\u001b[0m",
      "\u001b[1;32mc:\\Users\\lqw\\miniconda3\\envs\\simcse\\lib\\site-packages\\qwikidata\\json_dump.py\u001b[0m in \u001b[0;36mcreate_chunks\u001b[1;34m(self, out_fbase, num_lines_per_chunk, max_chunks)\u001b[0m\n\u001b[0;32m    132\u001b[0m             \u001b[0mout_lines\u001b[0m\u001b[1;33m.\u001b[0m\u001b[0mappend\u001b[0m\u001b[1;33m(\u001b[0m\u001b[0mline\u001b[0m\u001b[1;33m)\u001b[0m\u001b[1;33m\u001b[0m\u001b[1;33m\u001b[0m\u001b[0m\n\u001b[0;32m    133\u001b[0m             \u001b[1;32mif\u001b[0m \u001b[0mlen\u001b[0m\u001b[1;33m(\u001b[0m\u001b[0mout_lines\u001b[0m\u001b[1;33m)\u001b[0m \u001b[1;33m>=\u001b[0m \u001b[0mnum_lines_per_chunk\u001b[0m\u001b[1;33m:\u001b[0m\u001b[1;33m\u001b[0m\u001b[1;33m\u001b[0m\u001b[0m\n\u001b[1;32m--> 134\u001b[1;33m                 \u001b[0mout_lines\u001b[0m\u001b[1;33m,\u001b[0m \u001b[0michunk\u001b[0m\u001b[1;33m,\u001b[0m \u001b[0mout_fname\u001b[0m \u001b[1;33m=\u001b[0m \u001b[0mself\u001b[0m\u001b[1;33m.\u001b[0m\u001b[0m_write_chunk\u001b[0m\u001b[1;33m(\u001b[0m\u001b[0mout_fbase\u001b[0m\u001b[1;33m,\u001b[0m \u001b[0michunk\u001b[0m\u001b[1;33m,\u001b[0m \u001b[0mout_lines\u001b[0m\u001b[1;33m)\u001b[0m\u001b[1;33m\u001b[0m\u001b[1;33m\u001b[0m\u001b[0m\n\u001b[0m\u001b[0;32m    135\u001b[0m                 \u001b[0mout_fnames\u001b[0m\u001b[1;33m.\u001b[0m\u001b[0mappend\u001b[0m\u001b[1;33m(\u001b[0m\u001b[0mout_fname\u001b[0m\u001b[1;33m)\u001b[0m\u001b[1;33m\u001b[0m\u001b[1;33m\u001b[0m\u001b[0m\n\u001b[0;32m    136\u001b[0m \u001b[1;33m\u001b[0m\u001b[0m\n",
      "\u001b[1;32mc:\\Users\\lqw\\miniconda3\\envs\\simcse\\lib\\site-packages\\qwikidata\\json_dump.py\u001b[0m in \u001b[0;36m_write_chunk\u001b[1;34m(self, out_fbase, ichunk, out_lines)\u001b[0m\n\u001b[0;32m     91\u001b[0m         \u001b[1;32mif\u001b[0m \u001b[0mself\u001b[0m\u001b[1;33m.\u001b[0m\u001b[0mcompression\u001b[0m \u001b[1;33m==\u001b[0m \u001b[1;34m\"bz2\"\u001b[0m\u001b[1;33m:\u001b[0m\u001b[1;33m\u001b[0m\u001b[1;33m\u001b[0m\u001b[0m\n\u001b[0;32m     92\u001b[0m             \u001b[0margs\u001b[0m \u001b[1;33m=\u001b[0m \u001b[1;33m[\u001b[0m\u001b[1;34m\"bzip2\"\u001b[0m\u001b[1;33m,\u001b[0m \u001b[0mout_fname\u001b[0m\u001b[1;33m]\u001b[0m\u001b[1;33m\u001b[0m\u001b[1;33m\u001b[0m\u001b[0m\n\u001b[1;32m---> 93\u001b[1;33m             \u001b[0msubprocess\u001b[0m\u001b[1;33m.\u001b[0m\u001b[0mcheck_output\u001b[0m\u001b[1;33m(\u001b[0m\u001b[0margs\u001b[0m\u001b[1;33m)\u001b[0m\u001b[1;33m\u001b[0m\u001b[1;33m\u001b[0m\u001b[0m\n\u001b[0m\u001b[0;32m     94\u001b[0m             \u001b[0mout_fname\u001b[0m \u001b[1;33m=\u001b[0m \u001b[1;34m\"{}.bz2\"\u001b[0m\u001b[1;33m.\u001b[0m\u001b[0mformat\u001b[0m\u001b[1;33m(\u001b[0m\u001b[0mout_fname\u001b[0m\u001b[1;33m)\u001b[0m\u001b[1;33m\u001b[0m\u001b[1;33m\u001b[0m\u001b[0m\n\u001b[0;32m     95\u001b[0m         \u001b[1;32melif\u001b[0m \u001b[0mself\u001b[0m\u001b[1;33m.\u001b[0m\u001b[0mcompression\u001b[0m \u001b[1;33m==\u001b[0m \u001b[1;34m\"gz\"\u001b[0m\u001b[1;33m:\u001b[0m\u001b[1;33m\u001b[0m\u001b[1;33m\u001b[0m\u001b[0m\n",
      "\u001b[1;32mc:\\Users\\lqw\\miniconda3\\envs\\simcse\\lib\\subprocess.py\u001b[0m in \u001b[0;36mcheck_output\u001b[1;34m(timeout, *popenargs, **kwargs)\u001b[0m\n\u001b[0;32m    409\u001b[0m \u001b[1;33m\u001b[0m\u001b[0m\n\u001b[0;32m    410\u001b[0m     return run(*popenargs, stdout=PIPE, timeout=timeout, check=True,\n\u001b[1;32m--> 411\u001b[1;33m                **kwargs).stdout\n\u001b[0m\u001b[0;32m    412\u001b[0m \u001b[1;33m\u001b[0m\u001b[0m\n\u001b[0;32m    413\u001b[0m \u001b[1;33m\u001b[0m\u001b[0m\n",
      "\u001b[1;32mc:\\Users\\lqw\\miniconda3\\envs\\simcse\\lib\\subprocess.py\u001b[0m in \u001b[0;36mrun\u001b[1;34m(input, capture_output, timeout, check, *popenargs, **kwargs)\u001b[0m\n\u001b[0;32m    486\u001b[0m         \u001b[0mkwargs\u001b[0m\u001b[1;33m[\u001b[0m\u001b[1;34m'stderr'\u001b[0m\u001b[1;33m]\u001b[0m \u001b[1;33m=\u001b[0m \u001b[0mPIPE\u001b[0m\u001b[1;33m\u001b[0m\u001b[1;33m\u001b[0m\u001b[0m\n\u001b[0;32m    487\u001b[0m \u001b[1;33m\u001b[0m\u001b[0m\n\u001b[1;32m--> 488\u001b[1;33m     \u001b[1;32mwith\u001b[0m \u001b[0mPopen\u001b[0m\u001b[1;33m(\u001b[0m\u001b[1;33m*\u001b[0m\u001b[0mpopenargs\u001b[0m\u001b[1;33m,\u001b[0m \u001b[1;33m**\u001b[0m\u001b[0mkwargs\u001b[0m\u001b[1;33m)\u001b[0m \u001b[1;32mas\u001b[0m \u001b[0mprocess\u001b[0m\u001b[1;33m:\u001b[0m\u001b[1;33m\u001b[0m\u001b[1;33m\u001b[0m\u001b[0m\n\u001b[0m\u001b[0;32m    489\u001b[0m         \u001b[1;32mtry\u001b[0m\u001b[1;33m:\u001b[0m\u001b[1;33m\u001b[0m\u001b[1;33m\u001b[0m\u001b[0m\n\u001b[0;32m    490\u001b[0m             \u001b[0mstdout\u001b[0m\u001b[1;33m,\u001b[0m \u001b[0mstderr\u001b[0m \u001b[1;33m=\u001b[0m \u001b[0mprocess\u001b[0m\u001b[1;33m.\u001b[0m\u001b[0mcommunicate\u001b[0m\u001b[1;33m(\u001b[0m\u001b[0minput\u001b[0m\u001b[1;33m,\u001b[0m \u001b[0mtimeout\u001b[0m\u001b[1;33m=\u001b[0m\u001b[0mtimeout\u001b[0m\u001b[1;33m)\u001b[0m\u001b[1;33m\u001b[0m\u001b[1;33m\u001b[0m\u001b[0m\n",
      "\u001b[1;32mc:\\Users\\lqw\\miniconda3\\envs\\simcse\\lib\\subprocess.py\u001b[0m in \u001b[0;36m__init__\u001b[1;34m(self, args, bufsize, executable, stdin, stdout, stderr, preexec_fn, close_fds, shell, cwd, env, universal_newlines, startupinfo, creationflags, restore_signals, start_new_session, pass_fds, encoding, errors, text)\u001b[0m\n\u001b[0;32m    798\u001b[0m                                 \u001b[0mc2pread\u001b[0m\u001b[1;33m,\u001b[0m \u001b[0mc2pwrite\u001b[0m\u001b[1;33m,\u001b[0m\u001b[1;33m\u001b[0m\u001b[1;33m\u001b[0m\u001b[0m\n\u001b[0;32m    799\u001b[0m                                 \u001b[0merrread\u001b[0m\u001b[1;33m,\u001b[0m \u001b[0merrwrite\u001b[0m\u001b[1;33m,\u001b[0m\u001b[1;33m\u001b[0m\u001b[1;33m\u001b[0m\u001b[0m\n\u001b[1;32m--> 800\u001b[1;33m                                 restore_signals, start_new_session)\n\u001b[0m\u001b[0;32m    801\u001b[0m         \u001b[1;32mexcept\u001b[0m\u001b[1;33m:\u001b[0m\u001b[1;33m\u001b[0m\u001b[1;33m\u001b[0m\u001b[0m\n\u001b[0;32m    802\u001b[0m             \u001b[1;31m# Cleanup if the child failed starting.\u001b[0m\u001b[1;33m\u001b[0m\u001b[1;33m\u001b[0m\u001b[1;33m\u001b[0m\u001b[0m\n",
      "\u001b[1;32mc:\\Users\\lqw\\miniconda3\\envs\\simcse\\lib\\subprocess.py\u001b[0m in \u001b[0;36m_execute_child\u001b[1;34m(self, args, executable, preexec_fn, close_fds, pass_fds, cwd, env, startupinfo, creationflags, shell, p2cread, p2cwrite, c2pread, c2pwrite, errread, errwrite, unused_restore_signals, unused_start_new_session)\u001b[0m\n\u001b[0;32m   1205\u001b[0m                                          \u001b[0menv\u001b[0m\u001b[1;33m,\u001b[0m\u001b[1;33m\u001b[0m\u001b[1;33m\u001b[0m\u001b[0m\n\u001b[0;32m   1206\u001b[0m                                          \u001b[0mos\u001b[0m\u001b[1;33m.\u001b[0m\u001b[0mfspath\u001b[0m\u001b[1;33m(\u001b[0m\u001b[0mcwd\u001b[0m\u001b[1;33m)\u001b[0m \u001b[1;32mif\u001b[0m \u001b[0mcwd\u001b[0m \u001b[1;32mis\u001b[0m \u001b[1;32mnot\u001b[0m \u001b[1;32mNone\u001b[0m \u001b[1;32melse\u001b[0m \u001b[1;32mNone\u001b[0m\u001b[1;33m,\u001b[0m\u001b[1;33m\u001b[0m\u001b[1;33m\u001b[0m\u001b[0m\n\u001b[1;32m-> 1207\u001b[1;33m                                          startupinfo)\n\u001b[0m\u001b[0;32m   1208\u001b[0m             \u001b[1;32mfinally\u001b[0m\u001b[1;33m:\u001b[0m\u001b[1;33m\u001b[0m\u001b[1;33m\u001b[0m\u001b[0m\n\u001b[0;32m   1209\u001b[0m                 \u001b[1;31m# Child is launched. Close the parent's copy of those pipe\u001b[0m\u001b[1;33m\u001b[0m\u001b[1;33m\u001b[0m\u001b[1;33m\u001b[0m\u001b[0m\n",
      "\u001b[1;31mFileNotFoundError\u001b[0m: [WinError 2] 系统找不到指定的文件。"
     ]
    }
   ],
   "source": [
    "# 拆分不同chunks\n",
    "from qwikidata.json_dump import WikidataJsonDump\n",
    "from qwikidata.entity import WikidataItem\n",
    "from qwikidata.utils import dump_entities_to_json\n",
    "\n",
    "wjd_dump_path = \"wikidata\\wikidata-20231215-all.json.bz2\"\n",
    "wjd = WikidataJsonDump(wjd_dump_path)\n",
    "\n",
    "wjd.create_chunks(num_lines_per_chunk=100)"
   ]
  }
 ],
 "metadata": {
  "kernelspec": {
   "display_name": "simcse",
   "language": "python",
   "name": "python3"
  },
  "language_info": {
   "codemirror_mode": {
    "name": "ipython",
    "version": 3
   },
   "file_extension": ".py",
   "mimetype": "text/x-python",
   "name": "python",
   "nbconvert_exporter": "python",
   "pygments_lexer": "ipython3",
   "version": "3.7.12"
  }
 },
 "nbformat": 4,
 "nbformat_minor": 2
}
