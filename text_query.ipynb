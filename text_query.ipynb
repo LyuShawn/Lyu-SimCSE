{
 "cells": [
  {
   "cell_type": "markdown",
   "metadata": {},
   "source": [
    "## 用于对语料库及wiki数据库进行查询进行查询"
   ]
  },
  {
   "cell_type": "code",
   "execution_count": 1,
   "metadata": {},
   "outputs": [
    {
     "name": "stdout",
     "output_type": "stream",
     "text": [
      "19.432477\n"
     ]
    }
   ],
   "source": [
    "# 计算语料库的平均长度\n",
    "\n",
    "file_path = 'data/wiki1m_for_simcse.txt'\n",
    "\n",
    "total_length = 0\n",
    "total_sentences = 0\n",
    "\n",
    "with open(file_path, 'r', encoding='utf-8') as file:\n",
    "    for line in file:\n",
    "        words = line.strip().split()\n",
    "        total_length += len(words)\n",
    "        total_sentences += 1\n",
    "\n",
    "average_length = total_length / total_sentences\n",
    "print(average_length)"
   ]
  },
  {
   "cell_type": "code",
   "execution_count": 3,
   "metadata": {},
   "outputs": [
    {
     "name": "stdout",
     "output_type": "stream",
     "text": [
      "\"pestä\" = 'to clean', \"pesen\" = 'I clean', \"pesin\" = 'I cleaned' etc.\n",
      "\n"
     ]
    }
   ],
   "source": [
    "# 按index查询语料库\n",
    "\n",
    "index = 11\n",
    "file_path = 'data/wiki1k_for_debug.txt'\n",
    "with open(file_path, 'r', encoding='utf-8') as file:\n",
    "    for i, line in enumerate(file):\n",
    "        if i == index:\n",
    "            print(line)\n",
    "            break"
   ]
  }
 ],
 "metadata": {
  "kernelspec": {
   "display_name": "simcse",
   "language": "python",
   "name": "python3"
  },
  "language_info": {
   "codemirror_mode": {
    "name": "ipython",
    "version": 3
   },
   "file_extension": ".py",
   "mimetype": "text/x-python",
   "name": "python",
   "nbconvert_exporter": "python",
   "pygments_lexer": "ipython3",
   "version": "3.7.12"
  }
 },
 "nbformat": 4,
 "nbformat_minor": 2
}
