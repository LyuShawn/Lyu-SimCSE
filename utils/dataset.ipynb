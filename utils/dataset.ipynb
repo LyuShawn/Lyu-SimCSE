{
 "cells": [
  {
   "cell_type": "code",
   "execution_count": 7,
   "metadata": {},
   "outputs": [
    {
     "name": "stdout",
     "output_type": "stream",
     "text": [
      "total lines: 1000000\n",
      "max length: 365\n",
      "min length: 1\n",
      "avg length: 19.432477\n",
      "median length: 18.0\n"
     ]
    }
   ],
   "source": [
    "# 分析数据集\n",
    "import os\n",
    "import numpy as np\n",
    "\n",
    "input_file = '../data/wiki1m_for_simcse.txt'\n",
    "\n",
    "with open(input_file, 'r') as f:\n",
    "    lines = f.readlines()\n",
    "\n",
    "print('total lines:', len(lines))\n",
    "\n",
    "# 统计句子长度\n",
    "lengths = [len(line.split()) for line in lines]\n",
    "print('max length:', max(lengths))\n",
    "print('min length:', min(lengths))\n",
    "print('avg length:', np.mean(lengths))\n",
    "print('median length:', np.median(lengths))\n",
    "\n",
    "# 统计句子长度超过32\n"
   ]
  },
  {
   "cell_type": "code",
   "execution_count": 5,
   "metadata": {},
   "outputs": [
    {
     "name": "stdout",
     "output_type": "stream",
     "text": [
      "623\n",
      "Token count: 131\n"
     ]
    }
   ],
   "source": [
    "s = '''A surgeon interviewed by Australia's \"A Current Affair\" television show criticized the marketing of the supplement, stating that customers are \"wasting their money, and for this product a large amount of money; and secondly, they may be led to believe they don’t need to take their effective treatments for conditions they may actually have.” Despite this, Wilson claims that the \"purple powder\" can help elderly people \"keep their vibrations up\", and at one performance she invited an audience member to speak with her about the \"best thing for scar tissue\" off camera, so that \"trading standards don't become all uppity.\"'''\n",
    "print(len(s))\n",
    "\n",
    "from transformers import AutoTokenizer\n",
    "\n",
    "# 加载分词器\n",
    "tokenizer = AutoTokenizer.from_pretrained('bert-base-uncased')\n",
    "\n",
    "# 使用encode方法\n",
    "input_ids = tokenizer.encode(s)\n",
    "\n",
    "# 打印生成的token数量\n",
    "print(f\"Token count: {len(input_ids)}\")"
   ]
  },
  {
   "cell_type": "code",
   "execution_count": 2,
   "metadata": {},
   "outputs": [
    {
     "name": "stdout",
     "output_type": "stream",
     "text": [
      "This sentence : '\n",
      "' means [MASK].\n"
     ]
    }
   ],
   "source": [
    "from urllib.parse import quote\n",
    "\n",
    "template = 'This sentence : \\'{sentence}\\' means [MASK].'\n",
    "\n",
    "# template =template.replace('[MASK]', tokenizer.mask_token)\n",
    "prompt_prefix = template.split('{sentence}')[0]    \n",
    "prompt_suffix = template.split('{sentence}')[1]\n",
    "\n",
    "print(prompt_prefix)\n",
    "print(prompt_suffix)"
   ]
  }
 ],
 "metadata": {
  "kernelspec": {
   "display_name": "simcse3.9",
   "language": "python",
   "name": "python3"
  },
  "language_info": {
   "codemirror_mode": {
    "name": "ipython",
    "version": 3
   },
   "file_extension": ".py",
   "mimetype": "text/x-python",
   "name": "python",
   "nbconvert_exporter": "python",
   "pygments_lexer": "ipython3",
   "version": "3.9.18"
  }
 },
 "nbformat": 4,
 "nbformat_minor": 2
}
