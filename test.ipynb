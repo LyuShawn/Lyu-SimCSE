{
 "cells": [
  {
   "cell_type": "code",
   "execution_count": 11,
   "metadata": {},
   "outputs": [
    {
     "name": "stdout",
     "output_type": "stream",
     "text": [
      "256\n"
     ]
    },
    {
     "data": {
      "image/png": "[encoded data removed]",
      "text/plain": [
       "<Figure size 640x480 with 1 Axes>"
      ]
     },
     "metadata": {},
     "output_type": "display_data"
    }
   ],
   "source": [
    "from tqdm import tqdm\n",
    "import random\n",
    "from transformers import AutoTokenizer, AutoModel\n",
    "import torch\n",
    "import torch.nn.functional as F\n",
    "import torch.nn as nn\n",
    "\n",
    "input_file = 'data/wiki1m_for_simcse.txt'\n",
    "with open(input_file, 'r', encoding='utf-8') as f:\n",
    "    sent_list = f.read().splitlines()\n",
    "\n",
    "device = torch.device('cuda' if torch.cuda.is_available() else 'cpu')\n",
    "\n",
    "model_name = 'princeton-nlp/unsup-simcse-bert-base-uncased'\n",
    "# model_name = 'bert-base-uncased'\n",
    "\n",
    "tokenizer = AutoTokenizer.from_pretrained(model_name)\n",
    "model = AutoModel.from_pretrained(model_name).to(device)\n",
    "\n",
    "bs = 64\n",
    "\n",
    "list1 = sent_list[:bs]\n",
    "list2 = random.sample(sent_list, bs)\n",
    "\n",
    "sent_list = list1 * 2 + list2 * 2   # list1 list1 list2 list2\n",
    "\n",
    "print(len(sent_list))\n",
    "\n",
    "inputs = tokenizer(sent_list, padding=True, truncation=True, return_tensors='pt')\n",
    "\n",
    "with torch.no_grad():\n",
    "    outputs = model(**inputs.to(device))\n",
    "\n",
    "last_hidden_states = outputs.last_hidden_state  # (bs*4, seq_len, hidden_size)\n",
    "\n",
    "pooler_output = outputs.pooler_output  # (bs*4, hidden_size)\n",
    "pooler_output = pooler_output.view (4, bs, -1)  # (4, bs, hidden_size)\n",
    "\n",
    "z1 ,z2 ,z3, z4 = pooler_output\n",
    "\n",
    "class Similarity(nn.Module):\n",
    "\n",
    "    def __init__(self, temp):\n",
    "        super().__init__()\n",
    "        self.temp = temp\n",
    "        self.cos = nn.CosineSimilarity(dim=-1)\n",
    "\n",
    "    def forward(self, x, y):\n",
    "        return self.cos(x, y) / self.temp\n",
    "\n",
    "# sim = Similarity(1)\n",
    "\n",
    "# cos_sim_12 = sim(z1.unsqueeze(1), z2.unsqueeze(0))\n",
    "\n",
    "# 打印相似度\n",
    "# print(cos_sim_12)\n",
    "\n",
    "# cos_sim_34 = sim(z3.unsqueeze(1), z4.unsqueeze(0))\n",
    "\n",
    "# loss_fct = nn.CrossEntropyLoss()\n",
    "\n",
    "# labels = torch.arange(cos_sim_12.size(0)).long().to(device)\n",
    "\n",
    "# loss1 = loss_fct(cos_sim_12, labels)\n",
    "# loss2 = loss_fct(cos_sim_34, labels)\n",
    "\n",
    "# print(loss1, loss2)\n",
    "\n",
    "\n",
    "from sklearn.manifold import TSNE\n",
    "import numpy as np\n",
    "import matplotlib.pyplot as plt\n",
    "\n",
    "# 对Z1可视化\n",
    "# 使用 t-SNE 降维\n",
    "tsne = TSNE(n_components=2, random_state=42)\n",
    "reduced_embeddings = tsne.fit_transform(z3.cpu().numpy())\n",
    "\n",
    "# 绘制散点图\n",
    "plt.scatter(reduced_embeddings[:, 0], reduced_embeddings[:, 1], s=1, alpha=0.5)\n",
    "plt.title('Uniformity Visualization (t-SNE)')\n",
    "plt.xlabel('Dimension 1')\n",
    "plt.ylabel('Dimension 2')\n",
    "plt.show()\n",
    "\n"
   ]
  }
 ],
 "metadata": {
  "kernelspec": {
   "display_name": "simcse",
   "language": "python",
   "name": "python3"
  },
  "language_info": {
   "codemirror_mode": {
    "name": "ipython",
    "version": 3
   },
   "file_extension": ".py",
   "mimetype": "text/x-python",
   "name": "python",
   "nbconvert_exporter": "python",
   "pygments_lexer": "ipython3",
   "version": "3.9.18"
  }
 },
 "nbformat": 4,
 "nbformat_minor": 2
}
