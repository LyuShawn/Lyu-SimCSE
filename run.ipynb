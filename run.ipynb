{
 "cells": [
  {
   "cell_type": "code",
   "execution_count": 2,
   "metadata": {},
   "outputs": [
    {
     "data": {
      "text/plain": [
       "{'avg_scores': {'STS12': 0.15847410361933553,\n",
       "  'STS13': 0.2293880825819684,\n",
       "  'STS14': 0.15145239504982302,\n",
       "  'STS15': 0.21778545913447578,\n",
       "  'STS16': 0.3346207631216493,\n",
       "  'STSBenchmark': 0.1620628433967177,\n",
       "  'SICKRelatedness': 0.32394333064872427,\n",
       "  'avg': 0.2253895682218134},\n",
       " 'task_scores': {'STS12': [0.15847410361933553,\n",
       "   0.15847410361933553,\n",
       "   0.15847410361933553],\n",
       "  'STS13': [0.2293880825819684, 0.2293880825819684, 0.2293880825819684],\n",
       "  'STS14': [0.15145239504982302, 0.15145239504982302, 0.15145239504982302],\n",
       "  'STS15': [0.21778545913447578, 0.21778545913447578, 0.21778545913447578],\n",
       "  'STS16': [0.33462076312164923, 0.33462076312164923, 0.33462076312164923],\n",
       "  'STSBenchmark': [0.1620628433967177, 0.1620628433967177, 0.1620628433967177],\n",
       "  'SICKRelatedness': [0.32394333064872427,\n",
       "   0.32394333064872427,\n",
       "   0.32394333064872427],\n",
       "  'avg': [0.2253895682218134, 0.2253895682218134, 0.2253895682218134]}}"
      ]
     },
     "execution_count": 2,
     "metadata": {},
     "output_type": "execute_result"
    }
   ],
   "source": [
    "# 测试评测能力\n",
    "from eval import eval\n",
    "\n",
    "eval('/root/project/Prompt-BERT/result/unsup-bert_s42/')"
   ]
  }
 ],
 "metadata": {
  "kernelspec": {
   "display_name": "simcse",
   "language": "python",
   "name": "python3"
  },
  "language_info": {
   "codemirror_mode": {
    "name": "ipython",
    "version": 3
   },
   "file_extension": ".py",
   "mimetype": "text/x-python",
   "name": "python",
   "nbconvert_exporter": "python",
   "pygments_lexer": "ipython3",
   "version": "3.7.16"
  }
 },
 "nbformat": 4,
 "nbformat_minor": 2
}
