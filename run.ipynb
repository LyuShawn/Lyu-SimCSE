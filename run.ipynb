{
 "cells": [
  {
   "cell_type": "code",
   "execution_count": 1,
   "metadata": {},
   "outputs": [
    {
     "name": "stderr",
     "output_type": "stream",
     "text": [
      "/root/miniconda3/envs/simcse38/lib/python3.8/site-packages/transformers/modeling_utils.py:1038: FutureWarning: You are using `torch.load` with `weights_only=False` (the current default value), which uses the default pickle module implicitly. It is possible to construct malicious pickle data which will execute arbitrary code during unpickling (See https://github.com/pytorch/pytorch/blob/main/SECURITY.md#untrusted-models for more details). In a future release, the default value for `weights_only` will be flipped to `True`. This limits the functions that could be executed during unpickling. Arbitrary objects will no longer be allowed to be loaded via this mode unless they are explicitly allowlisted by the user via `torch.serialization.add_safe_globals`. We recommend you start setting `weights_only=True` for any use case where you don't have full control of the loaded file. Please open an issue on GitHub for any issues related to this experimental feature.\n",
      "  state_dict = torch.load(resolved_archive_file, map_location=\"cpu\")\n",
      "Some weights of BertModel were not initialized from the model checkpoint at result/40/ and are newly initialized: ['bert.pooler.dense.weight', 'bert.pooler.dense.bias']\n",
      "You should probably TRAIN this model on a down-stream task to be able to use it for predictions and inference.\n",
      "Some weights of BertModel were not initialized from the model checkpoint at result/40/ and are newly initialized: ['bert.pooler.dense.weight', 'bert.pooler.dense.bias']\n",
      "You should probably TRAIN this model on a down-stream task to be able to use it for predictions and inference.\n",
      "Some weights of BertModel were not initialized from the model checkpoint at result/40/ and are newly initialized: ['bert.pooler.dense.weight', 'bert.pooler.dense.bias']\n",
      "You should probably TRAIN this model on a down-stream task to be able to use it for predictions and inference.\n"
     ]
    },
    {
     "data": {
      "text/plain": [
       "{'avg_scores': {'STS12': 0.676215445384743,\n",
       "  'STS13': 0.8209052003893951,\n",
       "  'STS14': 0.7364096201324454,\n",
       "  'STS15': 0.8104924342835851,\n",
       "  'STS16': 0.775888048773119,\n",
       "  'STSBenchmark': 0.7777354094531379,\n",
       "  'SICKRelatedness': 0.7010881614422998,\n",
       "  'avg': 0.7569620456941036},\n",
       " 'task_scores': {'STS12': [0.6746727881802638,\n",
       "   0.6786786758186892,\n",
       "   0.6752948721552763],\n",
       "  'STS13': [0.8237417611769821, 0.8182344107475337, 0.8207394292436695],\n",
       "  'STS14': [0.7361917767303957, 0.7374744081957404, 0.7355626754712001],\n",
       "  'STS15': [0.8129545698551637, 0.8097044886150566, 0.8088182443805348],\n",
       "  'STS16': [0.7744917056933749, 0.7760236198525051, 0.7771488207734769],\n",
       "  'STSBenchmark': [0.7769173812165405, 0.7796048165292508, 0.7766840306136222],\n",
       "  'SICKRelatedness': [0.6992913116177202,\n",
       "   0.7007769452401845,\n",
       "   0.7031962274689946],\n",
       "  'avg': [0.7568944706386345, 0.7572139092855658, 0.7567777571581107]}}"
      ]
     },
     "execution_count": 1,
     "metadata": {},
     "output_type": "execute_result"
    }
   ],
   "source": [
    "# 测试评测能力\n",
    "from eval import eval\n",
    "\n",
    "eval('result/40/')"
   ]
  },
  {
   "cell_type": "code",
   "execution_count": null,
   "metadata": {},
   "outputs": [],
   "source": [
    "# 测试prompt-bert\n",
    "from transformers import BertTokenizer, BertModel\n",
    "import torch\n",
    "import torch.nn.functional as F\n",
    "\n",
    "# 使用 'bert-base-uncased' 模型\n",
    "model_name = '/root/project/Prompt-BERT/result/unsup-bert_s42/'\n",
    "tokenizer = BertTokenizer.from_pretrained(model_name)\n",
    "model = BertModel.from_pretrained(model_name)\n",
    "\n",
    "# 示例句子\n",
    "sentence1 = \"I love machine learning and natural language processing.\"\n",
    "sentence2 = \"I hate machine learning and natural language processing.\"\n",
    "\n",
    "# 将句子转换为token ID，并添加特殊token [CLS] 和 [SEP]\n",
    "inputs1 = tokenizer(sentence1, return_tensors='pt', padding=True, truncation=True)\n",
    "inputs2 = tokenizer(sentence2, return_tensors='pt', padding=True, truncation=True)\n",
    "\n",
    "# 模型不需要计算梯度，因此使用 torch.no_grad()\n",
    "with torch.no_grad():\n",
    "    outputs1 = model(**inputs1)\n",
    "    outputs2 = model(**inputs2)\n",
    "\n",
    "# BERT 输出的是一个包含多层的输出，这里我们只关心最后一层的隐藏状态\n",
    "last_hidden_state1 = outputs1.last_hidden_state\n",
    "last_hidden_state2 = outputs2.last_hidden_state\n",
    "\n",
    "# 取 [CLS] token 对应的向量，作为整个句子的向量表示\n",
    "sentence_embedding1 = last_hidden_state1[:, 0, :]  # [batch_size, hidden_size]\n",
    "sentence2_embedding = last_hidden_state2[:, 0, :]  # [batch_size, hidden_size]\n",
    "\n",
    "cos_sim = F.cosine_similarity(sentence_embedding1, sentence2_embedding)\n",
    "\n",
    "print(cos_sim.item())\n"
   ]
  },
  {
   "cell_type": "code",
   "execution_count": null,
   "metadata": {},
   "outputs": [],
   "source": [
    "from transformers import BertTokenizer, BertModel\n",
    "import torch\n",
    "import torch.nn.functional as F\n",
    "\n",
    "# 使用Prompt-BERT预训练模型\n",
    "model_name = 'princeton-nlp/unsup-simcse-bert-base-uncased'\n",
    "tokenizer = BertTokenizer.from_pretrained(model_name)\n",
    "model = BertModel.from_pretrained(model_name)\n",
    "\n",
    "# 定义带有 [MASK] 的prompt模板\n",
    "def create_prompt_with_mask(sentence):\n",
    "    # 在句子中插入 [MASK]，这里可以根据需求灵活调整位置\n",
    "    prompt_template = f\"The meaning of the sentence: {sentence} is [MASK].\"\n",
    "    return prompt_template\n",
    "\n",
    "# 示例句子\n",
    "sentence1 = \"I love machine learning and natural language processing.\"\n",
    "sentence2 = \"I hate machine learning and natural language processing.\"\n",
    "\n",
    "# 为句子添加 [MASK] prompt\n",
    "prompted_sentence1 = create_prompt_with_mask(sentence1)\n",
    "prompted_sentence2 = create_prompt_with_mask(sentence2)\n",
    "\n",
    "# 将句子转换为token ID\n",
    "inputs1 = tokenizer(prompted_sentence1, return_tensors='pt', padding=True, truncation=True)\n",
    "inputs2 = tokenizer(prompted_sentence2, return_tensors='pt', padding=True, truncation=True)\n",
    "\n",
    "# 获取 [MASK] token 的位置\n",
    "mask_token_index1 = (inputs1['input_ids'] == tokenizer.mask_token_id).nonzero(as_tuple=True)[1]\n",
    "mask_token_index2 = (inputs2['input_ids'] == tokenizer.mask_token_id).nonzero(as_tuple=True)[1]\n",
    "\n",
    "# 不需要计算梯度\n",
    "with torch.no_grad():\n",
    "    outputs1 = model(**inputs1)\n",
    "    outputs2 = model(**inputs2)\n",
    "\n",
    "# 提取 [MASK] token 的向量表示\n",
    "mask_embedding1 = outputs1.last_hidden_state[0, mask_token_index1, :].squeeze(0)\n",
    "mask_embedding2 = outputs2.last_hidden_state[0, mask_token_index2, :].squeeze(0)\n",
    "\n",
    "# 确保向量维度正确\n",
    "mask_embedding1 = mask_embedding1.unsqueeze(0)  # 转为 [1, hidden_size] 形式\n",
    "mask_embedding2 = mask_embedding2.unsqueeze(0)\n",
    "\n",
    "# 计算两个句子 [MASK] token 向量的余弦相似度\n",
    "cos_sim = F.cosine_similarity(mask_embedding1, mask_embedding2, dim=1)\n",
    "\n",
    "print(\"余弦相似度 (使用Prompt-BERT的[MASK] token 向量):\", cos_sim.item())"
   ]
  },
  {
   "cell_type": "code",
   "execution_count": null,
   "metadata": {},
   "outputs": [],
   "source": [
    "from simcse import SimCSE\n",
    "model = SimCSE(\"result//\")\n",
    "\n",
    "sentences_a = ['I love machine learning and natural language processing.']\n",
    "sentences_b = ['I hate machine learning and natural language processing.']\n",
    "similarities = model.similarity(sentences_a, sentences_b)\n",
    "print(similarities)"
   ]
  }
 ],
 "metadata": {
  "kernelspec": {
   "display_name": "simcse38",
   "language": "python",
   "name": "python3"
  },
  "language_info": {
   "codemirror_mode": {
    "name": "ipython",
    "version": 3
   },
   "file_extension": ".py",
   "mimetype": "text/x-python",
   "name": "python",
   "nbconvert_exporter": "python",
   "pygments_lexer": "ipython3",
   "version": "3.8.20"
  }
 },
 "nbformat": 4,
 "nbformat_minor": 2
}
