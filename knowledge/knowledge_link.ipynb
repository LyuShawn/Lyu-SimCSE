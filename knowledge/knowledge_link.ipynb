{
 "cells": [
  {
   "cell_type": "markdown",
   "metadata": {},
   "source": [
    "## 实体链接"
   ]
  },
  {
   "cell_type": "code",
   "execution_count": 4,
   "metadata": {},
   "outputs": [
    {
     "name": "stdout",
     "output_type": "stream",
     "text": [
      "sentence_list: 1000000\n",
      "entity_dict: 618922\n",
      "{'text': 'YMCA in South Australia', 'entities': [{'text': 'YMCA', 'start_position': 0, 'end_position': 4, 'label': 'ORG', 'confidence': 0.9874159693717957}, {'text': 'South Australia', 'start_position': 8, 'end_position': 23, 'label': 'LOC', 'confidence': 0.9811530113220215}]}\n"
     ]
    }
   ],
   "source": [
    "# 梳理json结构\n",
    "import os\n",
    "import json\n",
    "\n",
    "base_data_dir = '../data/'\n",
    "sentence_file_path = os.path.join(base_data_dir, 'wiki1m_for_simcse_ner.json')\n",
    "entity_dict_path = os.path.join(base_data_dir, 'wiki1m_for_simcse_ner_entity_dict.json')\n",
    "\n",
    "with open(sentence_file_path, 'r', encoding='utf-8') as f:\n",
    "    sentence_list = json.load(f)\n",
    "\n",
    "with open(entity_dict_path, 'r', encoding='utf-8') as f:\n",
    "    entity_dict = json.load(f)\n",
    "\n",
    "print('sentence_list:', len(sentence_list))\n",
    "print('entity_dict:', len(entity_dict))\n",
    "\n",
    "# 打印第一个句子\n",
    "print(sentence_list[0])"
   ]
  },
  {
   "cell_type": "code",
   "execution_count": null,
   "metadata": {},
   "outputs": [],
   "source": [
    "import hashlib\n",
    "def hash(text):\n",
    "    return hashlib.md5(text.encode()).hexdigest()\n",
    "\n"
   ]
  }
 ],
 "metadata": {
  "kernelspec": {
   "display_name": "simcse38",
   "language": "python",
   "name": "python3"
  },
  "language_info": {
   "codemirror_mode": {
    "name": "ipython",
    "version": 3
   },
   "file_extension": ".py",
   "mimetype": "text/x-python",
   "name": "python",
   "nbconvert_exporter": "python",
   "pygments_lexer": "ipython3",
   "version": "3.8.20"
  }
 },
 "nbformat": 4,
 "nbformat_minor": 2
}
