{
 "cells": [
  {
   "cell_type": "code",
   "execution_count": 4,
   "metadata": {},
   "outputs": [
    {
     "name": "stdout",
     "output_type": "stream",
     "text": [
      "19.432477\n"
     ]
    }
   ],
   "source": [
    "# 计算语料库的平均长度\n",
    "\n",
    "file_path = 'data\\wiki1m_for_simcse.txt'\n",
    "\n",
    "total_length = 0\n",
    "total_sentences = 0\n",
    "\n",
    "with open(file_path, 'r', encoding='utf-8') as file:\n",
    "    for line in file:\n",
    "        words = line.strip().split()\n",
    "        total_length += len(words)\n",
    "        total_sentences += 1\n",
    "\n",
    "average_length = total_length / total_sentences\n",
    "print(average_length)\n"
   ]
  },
  {
   "cell_type": "code",
   "execution_count": 8,
   "metadata": {},
   "outputs": [
    {
     "name": "stdout",
     "output_type": "stream",
     "text": [
      "South Australia NORP\n",
      "SA ORG\n",
      "Australia GPE\n",
      "colonies GPE\n",
      "South Australia GPE\n",
      "Adelaide ORG\n",
      "SA ORG\n"
     ]
    }
   ],
   "source": [
    "# 分词测试\n",
    "import spacy\n",
    "\n",
    "# 加载英语语言模型\n",
    "nlp = spacy.load(\"en_core_web_sm\")\n",
    "\n",
    "# 分词示例\n",
    "text = \"South Australia (SA)  has a unique position in Australia's history as, unlike the other states which were founded as colonies, South Australia began as a self governing province Many were attracted to this and Adelaide and SA developed as an independent and free thinking state.\"\n",
    "doc = nlp(text)\n",
    "\n",
    "for ent in doc.ents:\n",
    "    print(ent.text, ent.label_)\n",
    "\n",
    "# # 关键词提取示例\n",
    "# print(\"\\n关键词提取:\")\n",
    "# keywords = [token.text for token in doc if not token.is_stop and token.is_alpha]\n",
    "\n",
    "# # 选择关键词列表中的第一个词作为最关键的词\n",
    "# most_important_word = keywords[0] if keywords else None\n",
    "# print(most_important_word)\n"
   ]
  }
 ],
 "metadata": {
  "kernelspec": {
   "display_name": "simcse",
   "language": "python",
   "name": "python3"
  },
  "language_info": {
   "codemirror_mode": {
    "name": "ipython",
    "version": 3
   },
   "file_extension": ".py",
   "mimetype": "text/x-python",
   "name": "python",
   "nbconvert_exporter": "python",
   "pygments_lexer": "ipython3",
   "version": "3.7.12"
  }
 },
 "nbformat": 4,
 "nbformat_minor": 2
}
